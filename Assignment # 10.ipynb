{
 "cells": [
  {
   "cell_type": "markdown",
   "id": "d9945a70",
   "metadata": {},
   "source": [
    "# 01"
   ]
  },
  {
   "cell_type": "code",
   "execution_count": 1,
   "id": "5e7802da",
   "metadata": {},
   "outputs": [
    {
     "name": "stdout",
     "output_type": "stream",
     "text": [
      "25 <class 'int'>\n",
      "25 <= 30\n",
      "35 <class 'int'>\n",
      "35 > 30\n",
      "50 <class 'int'>\n",
      "50 > 30\n"
     ]
    }
   ],
   "source": [
    "lst = [\"15\", \"25\", \"40\"]\n",
    "new_tuple = tuple(int(i) + 10 for i in lst)\n",
    "\n",
    "for val in new_tuple:\n",
    "    print(val, type(val))\n",
    "    if val > 30:\n",
    "        print(f\"{val} > 30\")\n",
    "    else:\n",
    "        print(f\"{val} <= 30\")"
   ]
  },
  {
   "cell_type": "markdown",
   "id": "9fdd9c36",
   "metadata": {},
   "source": [
    "# 02"
   ]
  },
  {
   "cell_type": "code",
   "execution_count": 2,
   "id": "4c8ae9b7",
   "metadata": {},
   "outputs": [
    {
     "name": "stdout",
     "output_type": "stream",
     "text": [
      "Fazal asim  is not eligible to vote.\n"
     ]
    }
   ],
   "source": [
    "name = (\"Fazal asim \")\n",
    "age = int((\"17 \"))\n",
    "city = (\"wazirabad \")\n",
    "\n",
    "info_dict = {\"name\": name, \"age\": age, \"city\": city}\n",
    "info_tuple = (name, age, city)\n",
    "\n",
    "if age >= 18:\n",
    "    print(f\"{name} is eligible to vote.\")\n",
    "else:\n",
    "    print(f\"{name} is not eligible to vote.\")"
   ]
  },
  {
   "cell_type": "markdown",
   "id": "540ed247",
   "metadata": {},
   "source": [
    "# 03"
   ]
  },
  {
   "cell_type": "code",
   "execution_count": 3,
   "id": "1b20b96b",
   "metadata": {},
   "outputs": [
    {
     "name": "stdout",
     "output_type": "stream",
     "text": [
      "55 Pass <class 'int'> <class 'str'>\n",
      "45 Fail <class 'int'> <class 'str'>\n",
      "85 Pass <class 'int'> <class 'str'>\n",
      "35 Fail <class 'int'> <class 'str'>\n"
     ]
    }
   ],
   "source": [
    "marks = [\"55\", \"45\", \"85\", \"35\"]\n",
    "result = {}\n",
    "\n",
    "for m in marks:\n",
    "    m_int = int(m)\n",
    "    result[m_int] = \"Pass\" if m_int >= 50 else \"Fail\"\n",
    "\n",
    "for k, v in result.items():\n",
    "    print(k, v, type(k), type(v))"
   ]
  },
  {
   "cell_type": "markdown",
   "id": "ceeb7a72",
   "metadata": {},
   "source": [
    "# 04"
   ]
  },
  {
   "cell_type": "code",
   "execution_count": 5,
   "id": "dc66699b",
   "metadata": {},
   "outputs": [
    {
     "name": "stdout",
     "output_type": "stream",
     "text": [
      "name : Asim\n",
      "age : 20\n",
      "score : 93.5\n"
     ]
    }
   ],
   "source": [
    "data = (\"Asim\", \"20\", \"88.5\")\n",
    "name = data[0]\n",
    "age = int(data[1])\n",
    "score = float(data[2]) + 5\n",
    "\n",
    "info = {\"name\": name, \"age\": age, \"score\": score}\n",
    "\n",
    "for k, v in info.items():\n",
    "    print(k, \":\", v)\n"
   ]
  },
  {
   "cell_type": "markdown",
   "id": "6aa58595",
   "metadata": {},
   "source": [
    "# 05"
   ]
  },
  {
   "cell_type": "code",
   "execution_count": 6,
   "id": "5c3c7219",
   "metadata": {},
   "outputs": [
    {
     "name": "stdout",
     "output_type": "stream",
     "text": [
      "Count of names >4 letters: 1\n",
      "{'Ana': (3, 'short'), 'Sana': (4, 'short'), 'Salman': (6, 'medium')}\n"
     ]
    }
   ],
   "source": [
    "names = [\"Ana\", \"Sana\", \"Salman\"]\n",
    "count = sum(1 for n in names if len(n) > 4)\n",
    "\n",
    "name_info = {}\n",
    "for n in names:\n",
    "    l = len(n)\n",
    "    if l <= 4:\n",
    "        label = \"short\"\n",
    "    elif l <= 6:\n",
    "        label = \"medium\"\n",
    "    else:\n",
    "        label = \"long\"\n",
    "    name_info[n] = (l, label)\n",
    "\n",
    "print(\"Count of names >4 letters:\", count)\n",
    "print(name_info)"
   ]
  },
  {
   "cell_type": "markdown",
   "id": "5cc3f201",
   "metadata": {},
   "source": [
    "# 06"
   ]
  },
  {
   "cell_type": "code",
   "execution_count": 10,
   "id": "c14b9b55",
   "metadata": {},
   "outputs": [
    {
     "name": "stdout",
     "output_type": "stream",
     "text": [
      "  5000.0 (Expensive)\n"
     ]
    }
   ],
   "source": [
    "products = {}\n",
    "for i in range(3):\n",
    "    p = input(\"Ultra watch \")\n",
    "    price = float((\"5000 \"))\n",
    "    products[p] = price\n",
    "\n",
    "for k, v in products.items():\n",
    "    if v > 100:\n",
    "        print(f\"{k}  {v} (Expensive)\")\n",
    "    else:\n",
    "        print(f\"{k}  {v}\")\n"
   ]
  },
  {
   "cell_type": "markdown",
   "id": "3528d95f",
   "metadata": {},
   "source": [
    "# 07"
   ]
  },
  {
   "cell_type": "code",
   "execution_count": 11,
   "id": "156bbd3c",
   "metadata": {},
   "outputs": [
    {
     "name": "stdout",
     "output_type": "stream",
     "text": [
      "100.0 Below 250\n",
      "200.0 Below 250\n",
      "300.5 Above 250\n",
      "400.0 Above 250\n"
     ]
    }
   ],
   "source": [
    "mixed = [\"100\", 200, 300.5, \"400\"]\n",
    "for x in mixed:\n",
    "    num = float(x)\n",
    "    category = \"Above 250\" if num > 250 else \"Below 250\"\n",
    "    print(num, category)\n"
   ]
  },
  {
   "cell_type": "markdown",
   "id": "fe10e186",
   "metadata": {},
   "source": [
    "# 08"
   ]
  },
  {
   "cell_type": "code",
   "execution_count": 14,
   "id": "b5f9664c",
   "metadata": {},
   "outputs": [
    {
     "name": "stdout",
     "output_type": "stream",
     "text": [
      "name : Arman\n",
      "age : 15\n",
      "is_student : True\n"
     ]
    }
   ],
   "source": [
    "student = (\"Arman\", \"15\", \"True\")\n",
    "info = {\n",
    "    \"name\": student[0],\n",
    "    \"age\": int(student[1]),\n",
    "    \"is_student\": student[2] == \"True\"\n",
    "}\n",
    "\n",
    "for k, v in info.items():\n",
    "    print(k, \":\", v)\n"
   ]
  },
  {
   "cell_type": "markdown",
   "id": "44355f39",
   "metadata": {},
   "source": [
    "# 09"
   ]
  },
  {
   "cell_type": "code",
   "execution_count": 15,
   "id": "4cf663fe",
   "metadata": {},
   "outputs": [
    {
     "name": "stdout",
     "output_type": "stream",
     "text": [
      "Total: 175 Average: 87.5 Grade: B\n"
     ]
    }
   ],
   "source": [
    "subjects = {\"Math\": \"90\", \"English\": \"85\"}\n",
    "total = sum(int(v) for v in subjects.values())\n",
    "avg = total / len(subjects)\n",
    "\n",
    "if avg >= 90:\n",
    "    grade = \"A\"\n",
    "elif avg >= 80:\n",
    "    grade = \"B\"\n",
    "else:\n",
    "    grade = \"C\"\n",
    "\n",
    "print(\"Total:\", total, \"Average:\", avg, \"Grade:\", grade)\n"
   ]
  },
  {
   "cell_type": "markdown",
   "id": "28a2ac83",
   "metadata": {},
   "source": [
    "# 10"
   ]
  },
  {
   "cell_type": "code",
   "execution_count": 27,
   "id": "1ef75385",
   "metadata": {},
   "outputs": [
    {
     "name": "stdout",
     "output_type": "stream",
     "text": [
      "Gadgets: ['i phone: 1: ', 'i phone: 2: ', 'I PHONE: 3: ', 'i phone: 4: ', 'i phone: 5: ']\n",
      "Prices: [20000.0, 20000.0, 20000.0, 20000.0, 20000.0]\n",
      "Total: 100000.0\n",
      "Expensive Items: {'i phone: 1: ': 20000.0, 'i phone: 2: ': 20000.0, 'I PHONE: 3: ': 20000.0, 'i phone: 4: ': 20000.0, 'i phone: 5: ': 20000.0}\n"
     ]
    }
   ],
   "source": [
    "gadgets = []\n",
    "prices = []\n",
    "for i in range(5):\n",
    "    g = (f\"i phone: {i+1}: \")\n",
    "    p = float(\"20000\")\n",
    "    gadgets.append(g)\n",
    "    prices.append(p)\n",
    "\n",
    "gadgets[2] = gadgets[2].upper()\n",
    "\n",
    "total = sum(prices)\n",
    "\n",
    "expensive = {gadgets[i]: prices[i] for i in range(5) if prices[i] > 100}\n",
    "\n",
    "print(\"Gadgets:\", gadgets)\n",
    "print(\"Prices:\", prices)\n",
    "print(\"Total:\", total)\n",
    "print(\"Expensive Items:\", expensive)\n"
   ]
  }
 ],
 "metadata": {
  "kernelspec": {
   "display_name": "Python 3",
   "language": "python",
   "name": "python3"
  },
  "language_info": {
   "codemirror_mode": {
    "name": "ipython",
    "version": 3
   },
   "file_extension": ".py",
   "mimetype": "text/x-python",
   "name": "python",
   "nbconvert_exporter": "python",
   "pygments_lexer": "ipython3",
   "version": "3.13.5"
  }
 },
 "nbformat": 4,
 "nbformat_minor": 5
}
