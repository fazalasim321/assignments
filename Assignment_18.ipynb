{
  "nbformat": 4,
  "nbformat_minor": 0,
  "metadata": {
    "colab": {
      "provenance": [],
      "authorship_tag": "ABX9TyMm6fd6At5ElciEQoYewtjV",
      "include_colab_link": true
    },
    "kernelspec": {
      "name": "python3",
      "display_name": "Python 3"
    },
    "language_info": {
      "name": "python"
    }
  },
  "cells": [
    {
      "cell_type": "markdown",
      "metadata": {
        "id": "view-in-github",
        "colab_type": "text"
      },
      "source": [
        "<a href=\"https://colab.research.google.com/github/fazalasim321/assignments/blob/main/Assignment_18.ipynb\" target=\"_parent\"><img src=\"https://colab.research.google.com/assets/colab-badge.svg\" alt=\"Open In Colab\"/></a>"
      ]
    },
    {
      "cell_type": "code",
      "source": [
        "# 1️⃣ Encapsulation: BankAccount with private __balance\n",
        "class BankAccount:\n",
        "    def __init__(self, balance=0):\n",
        "        self.__balance = balance   # private\n",
        "\n",
        "    def deposit(self, amount):\n",
        "        if amount > 0:\n",
        "            self.__balance += amount\n",
        "            print(f\"Deposited {amount}, New Balance: {self.__balance}\")\n",
        "        else:\n",
        "            print(\"Deposit amount must be positive.\")\n",
        "\n",
        "    def withdraw(self, amount):\n",
        "        if 0 < amount <= self.__balance:\n",
        "            self.__balance -= amount\n",
        "            print(f\"Withdrew {amount}, Remaining Balance: {self.__balance}\")\n",
        "        else:\n",
        "            print(\"Insufficient balance or invalid amount.\")\n",
        "\n",
        "    def get_balance(self):\n",
        "        return self.__balance\n",
        "\n",
        "\n",
        "# 2️⃣ Inheritance: SavingsAccount with add_interest()\n",
        "class SavingsAccount(BankAccount):\n",
        "    def __init__(self, balance=0, interest_rate=0.05):\n",
        "        super().__init__(balance)\n",
        "        self.interest_rate = interest_rate\n",
        "\n",
        "    def add_interest(self):\n",
        "        interest = self.get_balance() * self.interest_rate\n",
        "        self.deposit(interest)\n",
        "        print(f\"Interest Added: {interest}\")\n",
        "\n",
        "\n",
        "# 3️⃣ MRO demo\n",
        "class A: pass\n",
        "class B: pass\n",
        "class C(A, B): pass\n",
        "print(\"MRO of class C:\", C.mro())\n",
        "\n",
        "\n",
        "# 4️⃣ Polymorphism demo\n",
        "class Cat:\n",
        "    def speak(self):\n",
        "        return \"Meow\"\n",
        "\n",
        "class Dog:\n",
        "    def speak(self):\n",
        "        return \"Woof\"\n",
        "\n",
        "def make_speak(animal):\n",
        "    print(animal.speak())\n",
        "\n",
        "make_speak(Cat())\n",
        "make_speak(Dog())\n",
        "\n",
        "\n",
        "# 5️⃣ Employee + 7️⃣ operator overloading (__eq__)\n",
        "class Employee:\n",
        "    def __init__(self, salary):\n",
        "        self.salary = salary\n",
        "\n",
        "    def display_salary(self):\n",
        "        pr\n"
      ],
      "metadata": {
        "colab": {
          "base_uri": "https://localhost:8080/"
        },
        "id": "r30siZEMgsNH",
        "outputId": "f58a3d8f-bb1c-4e99-ada9-782474dd739d"
      },
      "execution_count": 3,
      "outputs": [
        {
          "output_type": "stream",
          "name": "stdout",
          "text": [
            "MRO of class C: [<class '__main__.C'>, <class '__main__.A'>, <class '__main__.B'>, <class 'object'>]\n",
            "Meow\n",
            "Woof\n"
          ]
        }
      ]
    }
  ]
}