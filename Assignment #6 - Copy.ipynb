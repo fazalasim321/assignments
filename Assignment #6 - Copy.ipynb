{
 "cells": [
  {
   "cell_type": "markdown",
   "id": "12dd8a12",
   "metadata": {},
   "source": [
    "# 𝗣𝗿𝗶𝗻𝘁 𝗻𝘂𝗺𝗯𝗲𝗿𝘀 𝗳𝗿𝗼𝗺 𝟭 𝘁𝗼 𝟮𝟬 𝘂𝘀𝗶𝗻𝗴 𝗮 𝘄𝗵𝗶𝗹𝗲 𝗹𝗼𝗼𝗽۔"
   ]
  },
  {
   "cell_type": "code",
   "execution_count": 1,
   "id": "3feb68b2",
   "metadata": {},
   "outputs": [
    {
     "name": "stdout",
     "output_type": "stream",
     "text": [
      "1\n",
      "2\n",
      "3\n",
      "4\n",
      "5\n",
      "6\n",
      "7\n",
      "8\n",
      "9\n",
      "10\n",
      "11\n",
      "12\n",
      "13\n",
      "14\n",
      "15\n",
      "16\n",
      "17\n",
      "18\n",
      "19\n",
      "20\n"
     ]
    }
   ],
   "source": [
    "i = 1\n",
    "while i <= 20:\n",
    "   print(i)\n",
    "   i += 1"
   ]
  },
  {
   "cell_type": "markdown",
   "id": "6cbc253e",
   "metadata": {},
   "source": [
    "# 𝗣𝗿𝗶𝗻𝘁 𝗲𝘃𝗲𝗿𝘆 𝟯𝗿𝗱 𝗻𝘂𝗺𝗯𝗲𝗿 𝗳𝗿𝗼𝗺 𝟯 𝘁𝗼 𝟯𝟬۔"
   ]
  },
  {
   "cell_type": "code",
   "execution_count": 3,
   "id": "8e337a52",
   "metadata": {},
   "outputs": [
    {
     "name": "stdout",
     "output_type": "stream",
     "text": [
      "3\n",
      "6\n",
      "9\n",
      "12\n",
      "15\n",
      "18\n",
      "21\n",
      "24\n",
      "27\n",
      "30\n"
     ]
    }
   ],
   "source": [
    "for i in range(3, 31 ,3):\n",
    "    print(i)"
   ]
  },
  {
   "cell_type": "markdown",
   "id": "380df752",
   "metadata": {},
   "source": [
    "# 𝗣𝗿𝗶𝗻𝘁 𝘁𝗵𝗲 𝘀𝘂𝗺 𝗼𝗳 𝗲𝘃𝗲𝗻 𝗻𝘂𝗺𝗯𝗲𝗿𝘀 𝗳𝗿𝗼𝗺 𝟮 𝘁𝗼 𝟮𝟬۔"
   ]
  },
  {
   "cell_type": "code",
   "execution_count": 5,
   "id": "b7033190",
   "metadata": {},
   "outputs": [
    {
     "name": "stdout",
     "output_type": "stream",
     "text": [
      "2\n",
      "4\n",
      "6\n",
      "8\n",
      "10\n",
      "12\n",
      "14\n",
      "16\n",
      "18\n",
      "20\n"
     ]
    }
   ],
   "source": [
    "for i in range(2, 21, 2):\n",
    "    print(i)"
   ]
  },
  {
   "cell_type": "markdown",
   "id": "6ce84290",
   "metadata": {},
   "source": [
    "# 𝗣𝗿𝗶𝗻𝘁 𝘁𝗵𝗲 𝗽𝗿𝗼𝗱𝘂𝗰𝘁 𝗼𝗳 𝗼𝗱𝗱 𝗻𝘂𝗺𝗯𝗲𝗿𝘀 𝗳𝗿𝗼𝗺 𝟭 𝘁𝗼 𝟵۔"
   ]
  },
  {
   "cell_type": "code",
   "execution_count": 7,
   "id": "730abab1",
   "metadata": {},
   "outputs": [
    {
     "name": "stdout",
     "output_type": "stream",
     "text": [
      "945\n"
     ]
    }
   ],
   "source": [
    "product = 1\n",
    "for i in range(1, 10, 2):\n",
    "    product *= i\n",
    "print(product)"
   ]
  },
  {
   "cell_type": "markdown",
   "id": "845027ac",
   "metadata": {},
   "source": [
    "# 𝗖𝗿𝗲𝗮𝘁𝗲 𝗮 𝗹𝗶𝘀𝘁 𝗼𝗳 𝟱 𝗻𝗮𝗺𝗲𝘀 𝗮𝗻𝗱 𝗽𝗿𝗶𝗻𝘁 𝗲𝗮𝗰𝗵 𝗻𝗮𝗺𝗲 𝗼𝗻 𝗮 𝗻𝗲𝘄 𝗹𝗶𝗻𝗲۔"
   ]
  },
  {
   "cell_type": "code",
   "execution_count": 8,
   "id": "1faa9d33",
   "metadata": {},
   "outputs": [
    {
     "name": "stdout",
     "output_type": "stream",
     "text": [
      "Ali\n",
      "Sara\n",
      "Ahmed\n",
      "Zara\n",
      "Omar\n"
     ]
    }
   ],
   "source": [
    "names = [\"Ali\", \"Sara\", \"Ahmed\", \"Zara\", \"Omar\"]\n",
    "for name in names:\n",
    "    print(name)"
   ]
  },
  {
   "cell_type": "markdown",
   "id": "438916bd",
   "metadata": {},
   "source": [
    "# 𝗖𝗼𝘂𝗻𝘁 𝗵𝗼𝘄 𝗺𝗮𝗻𝘆 𝗹𝗲𝘁𝘁𝗲𝗿𝘀 '𝗮' 𝗮𝗿𝗲 𝗶𝗻 𝘁𝗵𝗲 𝘄𝗼𝗿𝗱 \"𝗯𝗮𝗻𝗮𝗻𝗮\"۔"
   ]
  },
  {
   "cell_type": "code",
   "execution_count": 9,
   "id": "5cd2a69e",
   "metadata": {},
   "outputs": [
    {
     "name": "stdout",
     "output_type": "stream",
     "text": [
      "3\n"
     ]
    }
   ],
   "source": [
    "word = \"banana\"\n",
    "count = word.count('a')\n",
    "print(count)"
   ]
  },
  {
   "cell_type": "markdown",
   "id": "ec7d9db7",
   "metadata": {},
   "source": [
    "# 𝗣𝗿𝗶𝗻𝘁 𝗼𝗻𝗹𝘆 𝘁𝗵𝗲 𝗻𝗲𝗴𝗮𝘁𝗶𝘃𝗲 𝗻𝘂𝗺𝗯𝗲𝗿𝘀 𝗳𝗿𝗼𝗺 𝗮 𝗴𝗶𝘃𝗲𝗻 𝗹𝗶𝘀𝘁۔"
   ]
  },
  {
   "cell_type": "code",
   "execution_count": 10,
   "id": "f20de487",
   "metadata": {},
   "outputs": [
    {
     "name": "stdout",
     "output_type": "stream",
     "text": [
      "-1\n",
      "-5\n",
      "-2\n"
     ]
    }
   ],
   "source": [
    "numbers = [3, -1, 7, -5, 0, -2]\n",
    "for n in numbers:\n",
    "    if n < 0:\n",
    "        print(n)"
   ]
  },
  {
   "cell_type": "markdown",
   "id": "0d39a781",
   "metadata": {},
   "source": [
    "# 𝗣𝗿𝗶𝗻𝘁 𝗼𝗻𝗹𝘆 𝘁𝗵𝗲 𝗻𝘂𝗺𝗯𝗲𝗿𝘀 𝗲𝗻𝗱𝗶𝗻𝗴 𝗶𝗻 𝟱 𝗳𝗿𝗼𝗺 𝟭 𝘁𝗼 𝟱𝟬۔"
   ]
  },
  {
   "cell_type": "code",
   "execution_count": 11,
   "id": "356dcf56",
   "metadata": {},
   "outputs": [
    {
     "name": "stdout",
     "output_type": "stream",
     "text": [
      "5\n",
      "15\n",
      "25\n",
      "35\n",
      "45\n"
     ]
    }
   ],
   "source": [
    "for i in range(1, 51):\n",
    "    if str(i).endswith('5'):\n",
    "        print(i)"
   ]
  },
  {
   "cell_type": "markdown",
   "id": "43c603b9",
   "metadata": {},
   "source": [
    "# 𝗣𝗿𝗶𝗻𝘁 𝘁𝗵𝗲 𝗹𝗲𝗻𝗴𝘁𝗵 𝗼𝗳 𝗲𝗮𝗰𝗵 𝘄𝗼𝗿𝗱 𝗶𝗻 𝘁𝗵𝗲 𝗹𝗶𝘀𝘁 [\"cat\", \"elephant\", \"bat\"]۔"
   ]
  },
  {
   "cell_type": "code",
   "execution_count": 13,
   "id": "a5286d6a",
   "metadata": {},
   "outputs": [
    {
     "name": "stdout",
     "output_type": "stream",
     "text": [
      "3\n",
      "8\n",
      "3\n"
     ]
    }
   ],
   "source": [
    "words = [\"cat\", \"elephant\", \"bat\"]\n",
    "for w in words:\n",
    "    print(len(w))"
   ]
  },
  {
   "cell_type": "markdown",
   "id": "01825938",
   "metadata": {},
   "source": [
    "# 𝗧𝗮𝗸𝗲 𝟯 𝗻𝘂𝗺𝗯𝗲𝗿𝘀 𝗮𝘀 𝗶𝗻𝗽𝘂𝘁 𝗳𝗿𝗼𝗺 𝘁𝗵𝗲 𝘂𝘀𝗲𝗿 𝗮𝗻𝗱 𝗽𝗿𝗶𝗻𝘁 𝘁𝗵𝗲𝗶𝗿 𝗮𝘃𝗲𝗿𝗮𝗴𝗲۔"
   ]
  },
  {
   "cell_type": "code",
   "execution_count": 14,
   "id": "e07f195d",
   "metadata": {},
   "outputs": [
    {
     "name": "stdout",
     "output_type": "stream",
     "text": [
      "2.0\n"
     ]
    }
   ],
   "source": [
    "a = 1 \n",
    "b = 2\n",
    "c = 3\n",
    "print((a+b+c)/3)"
   ]
  },
  {
   "cell_type": "markdown",
   "id": "f349b3ff",
   "metadata": {},
   "source": [
    "# 𝗣𝗿𝗶𝗻𝘁 𝘁𝗵𝗲 𝘁𝗮𝗯𝗹𝗲 𝗼𝗳 𝟱 𝗶𝗻 𝗿𝗲𝘃𝗲𝗿𝘀𝗲 (𝗳𝗿𝗼𝗺 𝟱×𝟭𝟬 𝘁𝗼 𝟱×𝟭)۔"
   ]
  },
  {
   "cell_type": "code",
   "execution_count": 15,
   "id": "dc62efa4",
   "metadata": {},
   "outputs": [
    {
     "name": "stdout",
     "output_type": "stream",
     "text": [
      "5 x 10 = 50\n",
      "5 x 9 = 45\n",
      "5 x 8 = 40\n",
      "5 x 7 = 35\n",
      "5 x 6 = 30\n",
      "5 x 5 = 25\n",
      "5 x 4 = 20\n",
      "5 x 3 = 15\n",
      "5 x 2 = 10\n",
      "5 x 1 = 5\n"
     ]
    }
   ],
   "source": [
    "for i in range(10, 0, -1):\n",
    "    print(f\"5 x {i} = {5*i}\")"
   ]
  },
  {
   "cell_type": "markdown",
   "id": "a3faf86b",
   "metadata": {},
   "source": [
    "# 𝗨𝘀𝗲 𝗮 𝗳𝗼𝗿 𝗹𝗼𝗼𝗽 𝘁𝗼 𝗽𝗿𝗶𝗻𝘁 𝗮𝗹𝗹 𝗰𝗵𝗮𝗿𝗮𝗰𝘁𝗲𝗿𝘀 𝗶𝗻 \"𝗣𝘆𝘁𝗵𝗼𝗻 𝗜𝘀 𝗙𝘂𝗻\"۔"
   ]
  },
  {
   "cell_type": "code",
   "execution_count": 16,
   "id": "7ca46c1a",
   "metadata": {},
   "outputs": [
    {
     "name": "stdout",
     "output_type": "stream",
     "text": [
      "P\n",
      "y\n",
      "t\n",
      "h\n",
      "o\n",
      "n\n",
      " \n",
      "I\n",
      "s\n",
      " \n",
      "F\n",
      "u\n",
      "n\n"
     ]
    }
   ],
   "source": [
    "for c in \"Python Is Fun\":\n",
    "    print(c)"
   ]
  },
  {
   "cell_type": "markdown",
   "id": "acc3fb6b",
   "metadata": {},
   "source": [
    "#  𝗖𝗿𝗲𝗮𝘁𝗲 𝗮 𝗹𝗶𝘀𝘁 𝗼𝗳 𝗻𝘂𝗺𝗯𝗲𝗿𝘀 𝗮𝗻𝗱 𝗽𝗿𝗶𝗻𝘁 𝗲𝘃𝗲𝗿𝘆 𝘀𝗲𝗰𝗼𝗻𝗱 𝗶𝘁𝗲𝗺۔"
   ]
  },
  {
   "cell_type": "code",
   "execution_count": null,
   "id": "7ee7fe62",
   "metadata": {},
   "outputs": [
    {
     "name": "stdout",
     "output_type": "stream",
     "text": [
      "[20, 40, 60]\n"
     ]
    }
   ],
   "source": [
    "nums = [10, 20, 30, 40, 50, 60]\n",
    "print(nums[1::2])"
   ]
  }
 ],
 "metadata": {
  "kernelspec": {
   "display_name": "Python 3",
   "language": "python",
   "name": "python3"
  },
  "language_info": {
   "codemirror_mode": {
    "name": "ipython",
    "version": 3
   },
   "file_extension": ".py",
   "mimetype": "text/x-python",
   "name": "python",
   "nbconvert_exporter": "python",
   "pygments_lexer": "ipython3",
   "version": "3.13.5"
  }
 },
 "nbformat": 4,
 "nbformat_minor": 5
}
