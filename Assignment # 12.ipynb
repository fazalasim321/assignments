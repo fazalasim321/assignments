{
 "cells": [
  {
   "cell_type": "markdown",
   "id": "af688094",
   "metadata": {},
   "source": [
    "#1   𝗜𝗺𝗽𝗼𝗿𝘁 math 𝗺𝗼𝗱𝘂𝗹𝗲 𝗮𝗻𝗱 𝘂𝘀𝗲 math.factorial() 𝘁𝗼 𝗳𝗶𝗻𝗱 𝗳𝗮𝗰𝘁𝗼𝗿𝗶𝗮𝗹. 𝗖𝗿𝗲𝗮𝘁𝗲 𝗮 𝗳𝘂𝗻𝗰𝘁𝗶𝗼𝗻 double(n) 𝘁𝗼 𝗿𝗲𝘁𝘂𝗿𝗻 𝘁𝘄𝗶𝗰𝗲 𝘁𝗵𝗲 𝗶𝗻𝗽𝘂𝘁. 𝗖𝗮𝗹𝗹 𝗯𝗼𝘁𝗵 𝗳𝘂𝗻𝗰𝘁𝗶𝗼𝗻𝘀.\n"
   ]
  },
  {
   "cell_type": "code",
   "execution_count": 1,
   "id": "76833480",
   "metadata": {},
   "outputs": [
    {
     "name": "stdout",
     "output_type": "stream",
     "text": [
      "Factorial of 5: 120\n",
      "Double of 4: 8\n"
     ]
    }
   ],
   "source": [
    "import math\n",
    "\n",
    "print(\"Factorial of 5:\", math.factorial(5))\n",
    "\n",
    "def double(n):\n",
    "    return n * 2\n",
    "\n",
    "print(\"Double of 4:\", double(4))\n"
   ]
  },
  {
   "cell_type": "markdown",
   "id": "185dfd95",
   "metadata": {},
   "source": [
    "#2  𝗜𝗺𝗽𝗼𝗿𝘁 random 𝗮𝗻𝗱 𝘂𝘀𝗲 random.choice() 𝗼𝗻 𝗮 𝗹𝗶𝘀𝘁. 𝗗𝗲𝗳𝗶𝗻𝗲 greet(name) 𝘁𝗼 𝗽𝗿𝗶𝗻𝘁 𝗮 𝗴𝗿𝗲𝗲𝘁𝗶𝗻𝗴. 𝗨𝘀𝗲 len() 𝘁𝗼 𝗽𝗿𝗶𝗻𝘁 𝘁𝗵𝗲 𝗹𝗶𝘀𝘁 𝗹𝗲𝗻𝗴𝘁𝗵"
   ]
  },
  {
   "cell_type": "code",
   "execution_count": 8,
   "id": "f6a82130",
   "metadata": {},
   "outputs": [
    {
     "name": "stdout",
     "output_type": "stream",
     "text": [
      "Random choice: blue\n",
      "Hello, Asim!\n",
      "List length: 4\n"
     ]
    }
   ],
   "source": [
    "import random\n",
    "\n",
    "colors = [\"red\", \"blue\", \"green\", \"yellow\"]\n",
    "print(\"Random choice:\", random.choice(colors))\n",
    "\n",
    "def greet(name):\n",
    "    print(f\"Hello, {name}!\")\n",
    "\n",
    "greet(\"Asim\")\n",
    "print(\"List length:\", len(colors))\n"
   ]
  },
  {
   "cell_type": "markdown",
   "id": "7ecc5601",
   "metadata": {},
   "source": [
    "#3  𝗨𝘀𝗲 sum() 𝘁𝗼 𝗮𝗱𝗱 𝗹𝗶𝘀𝘁 𝗲𝗹𝗲𝗺𝗲𝗻𝘁𝘀. 𝗜𝗺𝗽𝗼𝗿𝘁 statistics 𝗮𝗻𝗱 𝘂𝘀𝗲 mean(). 𝗖𝗿𝗲𝗮𝘁𝗲 is_even(num) 𝘁𝗼 𝗰𝗵𝗲𝗰𝗸 𝗲𝘃𝗲𝗻 𝗻𝘂𝗺𝗯𝗲𝗿𝘀."
   ]
  },
  {
   "cell_type": "code",
   "execution_count": 9,
   "id": "b6a5793b",
   "metadata": {},
   "outputs": [
    {
     "name": "stdout",
     "output_type": "stream",
     "text": [
      "Sum: 100\n",
      "Mean: 25\n",
      "Is 4 even? True\n"
     ]
    }
   ],
   "source": [
    "import statistics\n",
    "\n",
    "nums = [10, 20, 30, 40]\n",
    "print(\"Sum:\", sum(nums))\n",
    "print(\"Mean:\", statistics.mean(nums))\n",
    "\n",
    "def is_even(num):\n",
    "    return num % 2 == 0\n",
    "\n",
    "print(\"Is 4 even?\", is_even(4))"
   ]
  },
  {
   "cell_type": "markdown",
   "id": "d11b6c05",
   "metadata": {},
   "source": [
    "#4  𝗜𝗺𝗽𝗼𝗿𝘁 datetime 𝗮𝗻𝗱 𝗽𝗿𝗶𝗻𝘁 𝗰𝘂𝗿𝗿𝗲𝗻𝘁 𝗱𝗮𝘁𝗲 & 𝘁𝗶𝗺𝗲 𝘂𝘀𝗶𝗻𝗴 datetime.now(). 𝗖𝗿𝗲𝗮𝘁𝗲 say_hello() 𝗳𝘂𝗻𝗰𝘁𝗶𝗼𝗻. 𝗖𝗵𝗲𝗰𝗸 𝗮 𝘃𝗮𝗿𝗶𝗮𝗯𝗹𝗲’𝘀 𝘁𝘆𝗽𝗲 𝘄𝗶𝘁𝗵 type()."
   ]
  },
  {
   "cell_type": "code",
   "execution_count": 10,
   "id": "7ebb03ce",
   "metadata": {},
   "outputs": [
    {
     "name": "stdout",
     "output_type": "stream",
     "text": [
      "Current Date & Time: 2025-07-10 20:26:59.070987\n",
      "Hello!\n",
      "Type of x: <class 'int'>\n"
     ]
    }
   ],
   "source": [
    "from datetime import datetime\n",
    "\n",
    "print(\"Current Date & Time:\", datetime.now())\n",
    "\n",
    "def say_hello():\n",
    "    print(\"Hello!\")\n",
    "\n",
    "say_hello()\n",
    "\n",
    "x = 10\n",
    "print(\"Type of x:\", type(x))"
   ]
  },
  {
   "cell_type": "markdown",
   "id": "5bb5c893",
   "metadata": {},
   "source": [
    "#5  𝗖𝗿𝗲𝗮𝘁𝗲 area_of_circle(radius) 𝘂𝘀𝗶𝗻𝗴 𝝅r². 𝗜𝗺𝗽𝗼𝗿𝘁 math 𝗮𝗻𝗱 𝘂𝘀𝗲 math.pi. 𝗣𝗿𝗶𝗻𝘁 𝘁𝗵𝗲 𝗮𝗿𝗲𝗮 𝗮𝗻𝗱 𝗰𝗵𝗲𝗰𝗸 𝘁𝘆𝗽𝗲."
   ]
  },
  {
   "cell_type": "code",
   "execution_count": 11,
   "id": "2d9381ad",
   "metadata": {},
   "outputs": [
    {
     "name": "stdout",
     "output_type": "stream",
     "text": [
      "Area of circle: 78.53981633974483\n",
      "Type of area: <class 'float'>\n"
     ]
    }
   ],
   "source": [
    "import math\n",
    "\n",
    "def area_of_circle(radius):\n",
    "    return math.pi * radius ** 2\n",
    "\n",
    "area = area_of_circle(5)\n",
    "print(\"Area of circle:\", area)\n",
    "print(\"Type of area:\", type(area))"
   ]
  },
  {
   "cell_type": "markdown",
   "id": "712b44ef",
   "metadata": {},
   "source": [
    "#6   𝗜𝗺𝗽𝗼𝗿𝘁 random. 𝗚𝗲𝗻𝗲𝗿𝗮𝘁𝗲 𝗮 𝗿𝗮𝗻𝗱𝗼𝗺 𝗻𝘂𝗺𝗯𝗲𝗿 𝘂𝘀𝗶𝗻𝗴 randint(10, 100). 𝗗𝗲𝗳𝗶𝗻𝗲 check_number(num) 𝘁𝗼 𝗰𝗵𝗲𝗰𝗸 𝗶𝗳 𝗴𝗿𝗲𝗮𝘁𝗲𝗿 𝘁𝗵𝗮𝗻 𝟱𝟬."
   ]
  },
  {
   "cell_type": "code",
   "execution_count": 12,
   "id": "2f917236",
   "metadata": {},
   "outputs": [
    {
     "name": "stdout",
     "output_type": "stream",
     "text": [
      "Random number: 84\n",
      "Greater than 50\n"
     ]
    }
   ],
   "source": [
    "import random\n",
    "\n",
    "num = random.randint(10, 100)\n",
    "print(\"Random number:\", num)\n",
    "\n",
    "def check_number(num):\n",
    "    if num > 50:\n",
    "        print(\"Greater than 50\")\n",
    "    else:\n",
    "        print(\"50 or less\")\n",
    "\n",
    "check_number(num)\n"
   ]
  },
  {
   "cell_type": "markdown",
   "id": "d9505c0b",
   "metadata": {},
   "source": [
    "#7  𝗨𝘀𝗲 max() 𝗼𝗻 𝗮 𝗹𝗶𝘀𝘁. 𝗜𝗺𝗽𝗼𝗿𝘁 math 𝗮𝗻𝗱 𝘂𝘀𝗲 math.pow(x, y). 𝗖𝗿𝗲𝗮𝘁𝗲 display_info() 𝘁𝗼 𝗽𝗿𝗶𝗻𝘁 𝗻𝗮𝗺𝗲 & 𝗮𝗴𝗲"
   ]
  },
  {
   "cell_type": "code",
   "execution_count": 13,
   "id": "36ba8224",
   "metadata": {},
   "outputs": [
    {
     "name": "stdout",
     "output_type": "stream",
     "text": [
      "Max number: 20\n",
      "2 raised to power 3: 8.0\n",
      "Name: Ali, Age: 25\n"
     ]
    }
   ],
   "source": [
    "import math\n",
    "\n",
    "numbers = [5, 10, 15, 20]\n",
    "print(\"Max number:\", max(numbers))\n",
    "print(\"2 raised to power 3:\", math.pow(2, 3))\n",
    "\n",
    "def display_info():\n",
    "    print(\"Name: Ali, Age: 25\")\n",
    "\n",
    "display_info()\n"
   ]
  },
  {
   "cell_type": "markdown",
   "id": "406da38c",
   "metadata": {},
   "source": [
    "#8   𝗜𝗺𝗽𝗼𝗿𝘁 calendar. 𝗣𝗿𝗶𝗻𝘁 𝗠𝗮𝘆 𝟮𝟬𝟮𝟱 𝘂𝘀𝗶𝗻𝗴 calendar.month(2025, 5). 𝗖𝗼𝘂𝗻𝘁 𝗰𝗵𝗮𝗿𝗮𝗰𝘁𝗲𝗿𝘀 𝘄𝗶𝘁𝗵 len(). 𝗗𝗲𝗳𝗶𝗻𝗲 show_message()."
   ]
  },
  {
   "cell_type": "code",
   "execution_count": 16,
   "id": "e05cb7c8",
   "metadata": {},
   "outputs": [
    {
     "name": "stdout",
     "output_type": "stream",
     "text": [
      "      May 2025\n",
      "Mo Tu We Th Fr Sa Su\n",
      "          1  2  3  4\n",
      " 5  6  7  8  9 10 11\n",
      "12 13 14 15 16 17 18\n",
      "19 20 21 22 23 24 25\n",
      "26 27 28 29 30 31\n",
      "\n",
      "Number of characters: 10\n",
      "python is very easy language of computer science.\n"
     ]
    }
   ],
   "source": [
    "import calendar\n",
    "\n",
    "print(calendar.month(2025, 5))\n",
    "\n",
    "text = \"Assignment\"\n",
    "print(\"Number of characters:\", len(text))\n",
    "\n",
    "def show_message():\n",
    "    print(\"python is very easy language of computer science.\")\n",
    "\n",
    "show_message()\n"
   ]
  },
  {
   "cell_type": "markdown",
   "id": "934ce1e2",
   "metadata": {},
   "source": [
    "#9  𝗜𝗺𝗽𝗼𝗿𝘁 os, 𝗽𝗿𝗶𝗻𝘁 𝗰𝘂𝗿𝗿𝗲𝗻𝘁 𝗱𝗶𝗿 𝘂𝘀𝗶𝗻𝗴 os.getcwd(). 𝗖𝗼𝗻𝘃𝗲𝗿𝘁 𝗶𝗻𝘁 𝘁𝗼 𝘀𝘁𝗿𝗶𝗻𝗴 𝘄𝗶𝘁𝗵 str(). 𝗖𝗿𝗲𝗮𝘁𝗲 multiply(x, y) 𝘁𝗼 𝗿𝗲𝘁𝘂𝗿𝗻 𝗽𝗿𝗼𝗱𝘂𝗰𝘁."
   ]
  },
  {
   "cell_type": "code",
   "execution_count": 17,
   "id": "b5c966fd",
   "metadata": {},
   "outputs": [
    {
     "name": "stdout",
     "output_type": "stream",
     "text": [
      "Current Directory: c:\\Users\\Laptopify\\Desktop\\AI HUB\n",
      "String: 123\n",
      "Product of 3 and 4: 12\n"
     ]
    }
   ],
   "source": [
    "import os\n",
    "\n",
    "print(\"Current Directory:\", os.getcwd())\n",
    "\n",
    "num = 123\n",
    "num_str = str(num)\n",
    "print(\"String:\", num_str)\n",
    "\n",
    "def multiply(x, y):\n",
    "    return x * y\n",
    "\n",
    "print(\"Product of 3 and 4:\", multiply(3, 4))"
   ]
  },
  {
   "cell_type": "markdown",
   "id": "f886b90b",
   "metadata": {},
   "source": [
    "#10   𝗗𝗲𝗳𝗶𝗻𝗲 calculate_square_root(num) 𝘂𝘀𝗶𝗻𝗴 math.sqrt(). 𝗧𝗮𝗸𝗲 𝘂𝘀𝗲𝗿 𝗶𝗻𝗽𝘂𝘁, 𝗰𝗼𝗻𝘃𝗲𝗿𝘁 𝘁𝗼 int, 𝗰𝗵𝗲𝗰𝗸 𝘁𝘆𝗽𝗲, 𝗮𝗻𝗱 𝗽𝗿𝗶𝗻𝘁 𝘀𝗾𝘂𝗮𝗿𝗲 𝗿𝗼𝗼𝘁."
   ]
  },
  {
   "cell_type": "code",
   "execution_count": 20,
   "id": "0b7f2b45",
   "metadata": {},
   "outputs": [
    {
     "name": "stdout",
     "output_type": "stream",
     "text": [
      "Type of n: <class 'int'>\n",
      "Square root: 7.416198487095663\n"
     ]
    }
   ],
   "source": [
    "import math\n",
    "\n",
    "def calculate_square_root(num):\n",
    "    return math.sqrt(num)\n",
    "\n",
    "n = int(\"55\")\n",
    "print(\"Type of n:\", type(n))\n",
    "print(\"Square root:\", calculate_square_root(n))\n"
   ]
  }
 ],
 "metadata": {
  "kernelspec": {
   "display_name": "Python 3",
   "language": "python",
   "name": "python3"
  },
  "language_info": {
   "codemirror_mode": {
    "name": "ipython",
    "version": 3
   },
   "file_extension": ".py",
   "mimetype": "text/x-python",
   "name": "python",
   "nbconvert_exporter": "python",
   "pygments_lexer": "ipython3",
   "version": "3.13.5"
  }
 },
 "nbformat": 4,
 "nbformat_minor": 5
}
